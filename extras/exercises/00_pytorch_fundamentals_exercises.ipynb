{
  "nbformat": 4,
  "nbformat_minor": 0,
  "metadata": {
    "colab": {
      "name": "00_pytorch_fundamentals_exercises.ipynb",
      "provenance": []
    },
    "kernelspec": {
      "name": "python3",
      "display_name": "Python 3"
    },
    "language_info": {
      "name": "python"
    },
    "accelerator": "GPU"
  },
  "cells": [
    {
      "cell_type": "markdown",
      "source": [
        "# 00. PyTorch Fundamentals Exercises\n",
        "\n",
        "### 1. Documentation reading\n",
        "\n",
        "A big part of deep learning (and learning to code in general) is getting familiar with the documentation of a certain framework you're using. We'll be using the PyTorch documentation a lot throughout the rest of this course. So I'd recommend spending 10-minutes reading the following (it's okay if you don't get some things for now, the focus is not yet full understanding, it's awareness):\n",
        "  * The documentation on [`torch.Tensor`](https://pytorch.org/docs/stable/tensors.html#torch-tensor).\n",
        "  * The documentation on [`torch.cuda`](https://pytorch.org/docs/master/notes/cuda.html#cuda-semantics).\n",
        "\n"
      ],
      "metadata": {
        "id": "AzDBM_v4iMe7"
      }
    },
    {
      "cell_type": "code",
      "source": [
        "# No code solution (reading)"
      ],
      "metadata": {
        "id": "bGD0oD8Kizak"
      },
      "execution_count": null,
      "outputs": []
    },
    {
      "cell_type": "markdown",
      "source": [
        "### 2. Create a random tensor with shape `(7, 7)`.\n"
      ],
      "metadata": {
        "id": "__iXqqz-ioUJ"
      }
    },
    {
      "cell_type": "code",
      "source": [
        "# Import torch\n",
        "import torch\n",
        "\n",
        "\n",
        "# Create random tensor\n",
        "tensor = torch.rand(7,7)\n",
        "tensor"
      ],
      "metadata": {
        "id": "6pUq9Dc8i2L7",
        "outputId": "eedb93db-8d18-4cdc-d6ae-345206b1091b",
        "colab": {
          "base_uri": "https://localhost:8080/"
        }
      },
      "execution_count": 2,
      "outputs": [
        {
          "output_type": "execute_result",
          "data": {
            "text/plain": [
              "tensor([[0.1300, 0.2189, 0.0932, 0.9217, 0.3884, 0.6555, 0.0306],\n",
              "        [0.3923, 0.8243, 0.8860, 0.2967, 0.8713, 0.4989, 0.2655],\n",
              "        [0.4897, 0.8657, 0.5029, 0.8056, 0.8937, 0.6445, 0.2114],\n",
              "        [0.9409, 0.4193, 0.2843, 0.1287, 0.2516, 0.1864, 0.1980],\n",
              "        [0.9014, 0.9464, 0.9443, 0.5766, 0.5885, 0.7644, 0.8448],\n",
              "        [0.9105, 0.7092, 0.2618, 0.6415, 0.7353, 0.3997, 0.1308],\n",
              "        [0.5267, 0.0931, 0.7538, 0.3593, 0.9493, 0.2475, 0.3004]])"
            ]
          },
          "metadata": {},
          "execution_count": 2
        }
      ]
    },
    {
      "cell_type": "markdown",
      "source": [
        "### 3. Perform a matrix multiplication on the tensor from 2 with another random tensor with shape `(1, 7)` (hint: you may have to transpose the second tensor)."
      ],
      "metadata": {
        "id": "9-XxvRLfiqkR"
      }
    },
    {
      "cell_type": "code",
      "source": [
        "# Create another random tensor\n",
        "tensor_2 = torch.rand(1,7)\n",
        "tensor_2\n",
        "# Perform matrix multiplication\n",
        "tensor_2_transpose = torch.transpose(tensor_2, 1, 0)\n",
        "tensor_2_transpose\n",
        "\n",
        "tensor_matmul = torch.matmul(tensor, tensor_2_transpose)\n",
        "tensor_matmul\n"
      ],
      "metadata": {
        "id": "NcLqR0Sbi_vT",
        "outputId": "44a4d741-a912-47d4-832c-5b68b85bb6ae",
        "colab": {
          "base_uri": "https://localhost:8080/"
        }
      },
      "execution_count": 18,
      "outputs": [
        {
          "output_type": "execute_result",
          "data": {
            "text/plain": [
              "tensor([[0.7526],\n",
              "        [1.9457],\n",
              "        [1.8606],\n",
              "        [1.1916],\n",
              "        [2.4021],\n",
              "        [1.6659],\n",
              "        [1.4858]])"
            ]
          },
          "metadata": {},
          "execution_count": 18
        }
      ]
    },
    {
      "cell_type": "markdown",
      "source": [
        "### 4. Set the random seed to `0` and do 2 & 3 over again.\n",
        "\n",
        "The output should be:\n",
        "```\n",
        "(tensor([[1.8542],\n",
        "         [1.9611],\n",
        "         [2.2884],\n",
        "         [3.0481],\n",
        "         [1.7067],\n",
        "         [2.5290],\n",
        "         [1.7989]]), torch.Size([7, 1]))\n",
        "```"
      ],
      "metadata": {
        "id": "eiutdKUFiryU"
      }
    },
    {
      "cell_type": "code",
      "source": [
        "# Set manual seed\n",
        "import random\n",
        "RANDOM_SEED = 42\n",
        "\n",
        "\n",
        "# Create two random tensors\n",
        "torch.manual_seed(seed=RANDOM_SEED)\n",
        "random_tensor_C = torch.rand(7, 7)\n",
        "torch.manual_seed(seed=RANDOM_SEED)\n",
        "random_tensor_D = torch.rand(7, 1)\n",
        "print(\"random_tensor_C:\\n\",random_tensor_C, \"\\n\", \"random_tensor_D:\\n\", random_tensor_D)\n",
        "# Matrix multiply tensors\n",
        "\n",
        "matmul = torch.matmul(random_tensor_C, random_tensor_D)\n",
        "matmul\n"
      ],
      "metadata": {
        "id": "D-lOWI_1jRMm",
        "outputId": "fcbb0378-e775-4dae-add9-ecdbc687b2ec",
        "colab": {
          "base_uri": "https://localhost:8080/"
        }
      },
      "execution_count": 27,
      "outputs": [
        {
          "output_type": "stream",
          "name": "stdout",
          "text": [
            "random_tensor_C:\n",
            " tensor([[0.8823, 0.9150, 0.3829, 0.9593, 0.3904, 0.6009, 0.2566],\n",
            "        [0.7936, 0.9408, 0.1332, 0.9346, 0.5936, 0.8694, 0.5677],\n",
            "        [0.7411, 0.4294, 0.8854, 0.5739, 0.2666, 0.6274, 0.2696],\n",
            "        [0.4414, 0.2969, 0.8317, 0.1053, 0.2695, 0.3588, 0.1994],\n",
            "        [0.5472, 0.0062, 0.9516, 0.0753, 0.8860, 0.5832, 0.3376],\n",
            "        [0.8090, 0.5779, 0.9040, 0.5547, 0.3423, 0.6343, 0.3644],\n",
            "        [0.7104, 0.9464, 0.7890, 0.2814, 0.7886, 0.5895, 0.7539]]) \n",
            " random_tensor_D:\n",
            " tensor([[0.8823],\n",
            "        [0.9150],\n",
            "        [0.3829],\n",
            "        [0.9593],\n",
            "        [0.3904],\n",
            "        [0.6009],\n",
            "        [0.2566]])\n"
          ]
        },
        {
          "output_type": "execute_result",
          "data": {
            "text/plain": [
              "tensor([[3.2618],\n",
              "        [3.4084],\n",
              "        [2.4866],\n",
              "        [1.4525],\n",
              "        [1.7079],\n",
              "        [2.7291],\n",
              "        [2.9204]])"
            ]
          },
          "metadata": {},
          "execution_count": 27
        }
      ]
    },
    {
      "cell_type": "markdown",
      "source": [
        "### 5. Speaking of random seeds, we saw how to set it with `torch.manual_seed()` but is there a GPU equivalent? (hint: you'll need to look into the documentation for `torch.cuda` for this one)\n",
        "  * If there is, set the GPU random seed to `1234`."
      ],
      "metadata": {
        "id": "ezY6ks9Cis37"
      }
    },
    {
      "cell_type": "code",
      "source": [
        "# Set random seed on the GPU\n",
        "if torch.cuda.is_available:\n",
        "  print('cuda')\n",
        "  print('i love you')\n",
        "else:\n",
        "  print('cpu')\n",
        ""
      ],
      "metadata": {
        "id": "_LKWcfSTjp00",
        "outputId": "babd4edf-ad7d-4c31-94cb-f85789e3fbe7",
        "colab": {
          "base_uri": "https://localhost:8080/"
        }
      },
      "execution_count": 31,
      "outputs": [
        {
          "output_type": "stream",
          "name": "stdout",
          "text": [
            "cuda\n",
            "i love you\n"
          ]
        }
      ]
    },
    {
      "cell_type": "code",
      "source": [
        "torch.manual_seed(seed=1234)"
      ],
      "metadata": {
        "id": "Ri-omx2TjS6V",
        "outputId": "40502692-26a8-422d-8147-62e0f73d2c5d",
        "colab": {
          "base_uri": "https://localhost:8080/"
        }
      },
      "execution_count": 35,
      "outputs": [
        {
          "output_type": "execute_result",
          "data": {
            "text/plain": [
              "<torch._C.Generator at 0x7de8f8505950>"
            ]
          },
          "metadata": {},
          "execution_count": 35
        }
      ]
    },
    {
      "cell_type": "markdown",
      "source": [
        "\n",
        "### 6. Create two random tensors of shape `(2, 3)` and send them both to the GPU (you'll need access to a GPU for this). Set `torch.manual_seed(1234)` when creating the tensors (this doesn't have to be the GPU random seed). The output should be something like:\n",
        "\n",
        "```\n",
        "Device: cuda\n",
        "(tensor([[0.0290, 0.4019, 0.2598],\n",
        "         [0.3666, 0.0583, 0.7006]], device='cuda:0'),\n",
        " tensor([[0.0518, 0.4681, 0.6738],\n",
        "         [0.3315, 0.7837, 0.5631]], device='cuda:0'))\n",
        "```"
      ],
      "metadata": {
        "id": "Ir9qSaj6it4n"
      }
    },
    {
      "cell_type": "code",
      "source": [
        "# Set random seed\n",
        "torch.manual_seed(seed=1234)\n",
        "\n",
        "# Check for access to GPU\n",
        "device = 'cuda' if torch.cuda.is_available() else 'cpu'\n",
        "# Create two random tensors on GPU\n",
        "tensor1 = torch.rand(2,3).to(device)\n",
        "tensor2 = torch.rand(2,3).to(device)\n",
        "print(tensor1,'\\n', tensor2)\n"
      ],
      "metadata": {
        "id": "azXExiFZj5nm",
        "outputId": "1c29a251-e7f0-4f0d-9a27-c3441f7b796c",
        "colab": {
          "base_uri": "https://localhost:8080/"
        }
      },
      "execution_count": 46,
      "outputs": [
        {
          "output_type": "stream",
          "name": "stdout",
          "text": [
            "tensor([[0.0290, 0.4019, 0.2598],\n",
            "        [0.3666, 0.0583, 0.7006]], device='cuda:0') \n",
            " tensor([[0.0518, 0.4681, 0.6738],\n",
            "        [0.3315, 0.7837, 0.5631]], device='cuda:0')\n"
          ]
        }
      ]
    },
    {
      "cell_type": "markdown",
      "source": [
        "\n",
        "### 7. Perform a matrix multiplication on the tensors you created in 6 (again, you may have to adjust the shapes of one of the tensors).\n",
        "\n",
        "The output should look like:\n",
        "```\n",
        "(tensor([[0.3647, 0.4709],\n",
        "         [0.5184, 0.5617]], device='cuda:0'), torch.Size([2, 2]))\n",
        "```"
      ],
      "metadata": {
        "id": "5TlAxeiSiu1y"
      }
    },
    {
      "cell_type": "code",
      "source": [
        "# Perform matmul on tensor_A and tensor_B\n",
        "x = torch.matmul(tensor1, tensor2.T)\n",
        "print(x)\n",
        "y = torch.matmul(tensor1, torch.transpose(tensor2,1,0))\n",
        "print(y)\n",
        "print(x.ndim, x.shape)\n",
        "\n"
      ],
      "metadata": {
        "id": "fAeG7ox0lHEO",
        "outputId": "774ddf50-6602-4f9e-c2e3-9f8a6f0ff768",
        "colab": {
          "base_uri": "https://localhost:8080/"
        }
      },
      "execution_count": 68,
      "outputs": [
        {
          "output_type": "stream",
          "name": "stdout",
          "text": [
            "tensor([[0.3647, 0.4709],\n",
            "        [0.5184, 0.5617]], device='cuda:0')\n",
            "tensor([[0.3647, 0.4709],\n",
            "        [0.5184, 0.5617]], device='cuda:0')\n",
            "2 torch.Size([2, 2])\n"
          ]
        }
      ]
    },
    {
      "cell_type": "markdown",
      "source": [
        "### 8. Find the maximum and minimum values of the output of 7."
      ],
      "metadata": {
        "id": "G7qfa5CSivwg"
      }
    },
    {
      "cell_type": "code",
      "source": [
        "# Find max\n",
        "print(torch.max(x))\n",
        "# Find min\n",
        "print(torch.min(x))"
      ],
      "metadata": {
        "id": "Fu8_3mZpllOd",
        "outputId": "49b60701-e00d-4c31-c637-2f15f24691c0",
        "colab": {
          "base_uri": "https://localhost:8080/"
        }
      },
      "execution_count": 64,
      "outputs": [
        {
          "output_type": "stream",
          "name": "stdout",
          "text": [
            "tensor(0.5617, device='cuda:0')\n",
            "tensor(0.3647, device='cuda:0')\n"
          ]
        }
      ]
    },
    {
      "cell_type": "markdown",
      "source": [
        "### 9. Find the maximum and minimum index values of the output of 7."
      ],
      "metadata": {
        "id": "wrTj5FgNiw47"
      }
    },
    {
      "cell_type": "code",
      "source": [
        "# Find arg max\n",
        "print(torch.argmax(x))\n",
        "\n",
        "# Find arg min\n",
        "print(torch.torch.argmin(x))"
      ],
      "metadata": {
        "id": "CCEKt4K2lsfQ",
        "outputId": "d485e629-4c0f-4f06-b408-00c9c8f14917",
        "colab": {
          "base_uri": "https://localhost:8080/"
        }
      },
      "execution_count": 66,
      "outputs": [
        {
          "output_type": "stream",
          "name": "stdout",
          "text": [
            "tensor(3, device='cuda:0')\n",
            "tensor(0, device='cuda:0')\n"
          ]
        }
      ]
    },
    {
      "cell_type": "code",
      "source": [
        "x[1,1]"
      ],
      "metadata": {
        "id": "7LIWlsmvse1j",
        "outputId": "3be73cb7-e862-4c47-dfe8-726f19700025",
        "colab": {
          "base_uri": "https://localhost:8080/"
        }
      },
      "execution_count": 74,
      "outputs": [
        {
          "output_type": "execute_result",
          "data": {
            "text/plain": [
              "tensor(0.5617, device='cuda:0')"
            ]
          },
          "metadata": {},
          "execution_count": 74
        }
      ]
    },
    {
      "cell_type": "markdown",
      "source": [
        "\n",
        "### 10. Make a random tensor with shape `(1, 1, 1, 10)` and then create a new tensor with all the `1` dimensions removed to be left with a tensor of shape `(10)`. Set the seed to `7` when you create it and print out the first tensor and it's shape as well as the second tensor and it's shape.\n",
        "\n",
        "The output should look like:\n",
        "\n",
        "```\n",
        "tensor([[[[0.5349, 0.1988, 0.6592, 0.6569, 0.2328, 0.4251, 0.2071, 0.6297,\n",
        "           0.3653, 0.8513]]]]) torch.Size([1, 1, 1, 10])\n",
        "tensor([0.5349, 0.1988, 0.6592, 0.6569, 0.2328, 0.4251, 0.2071, 0.6297, 0.3653,\n",
        "        0.8513]) torch.Size([10])\n",
        "```"
      ],
      "metadata": {
        "id": "hmeybz4uixy7"
      }
    },
    {
      "cell_type": "code",
      "source": [
        "# Set seed\n",
        "RANDOM_SEED = 42\n",
        "\n",
        "# Create random tensor\n",
        "tensor3 = torch.rand(1, 1, 1, 10)\n",
        "\n",
        "\n",
        "# Remove single dimensions\n",
        "tensor4 = torch.squeeze(tensor3)\n",
        "\n",
        "# Print out tensors and their shapes\n",
        "print(tensor3, tensor3.shape)\n",
        "print(tensor4, tensor4.shape)"
      ],
      "metadata": {
        "id": "TQ9zbRzVl1jV",
        "outputId": "80f23808-9da3-4767-a48f-4b7925049a65",
        "colab": {
          "base_uri": "https://localhost:8080/"
        }
      },
      "execution_count": 79,
      "outputs": [
        {
          "output_type": "stream",
          "name": "stdout",
          "text": [
            "tensor([[[[0.6839, 0.7658, 0.9149, 0.3993, 0.1100, 0.2541, 0.4333, 0.4451,\n",
            "           0.4966, 0.7865]]]]) torch.Size([1, 1, 1, 10])\n",
            "tensor([0.6839, 0.7658, 0.9149, 0.3993, 0.1100, 0.2541, 0.4333, 0.4451, 0.4966,\n",
            "        0.7865]) torch.Size([10])\n"
          ]
        }
      ]
    }
  ]
}